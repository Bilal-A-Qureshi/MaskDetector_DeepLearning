{
  "nbformat": 4,
  "nbformat_minor": 0,
  "metadata": {
    "colab": {
      "name": "FaceMaskDetection.ipynb",
      "provenance": [],
      "collapsed_sections": []
    },
    "kernelspec": {
      "name": "python3",
      "display_name": "Python 3"
    },
    "language_info": {
      "name": "python"
    },
    "accelerator": "GPU"
  },
  "cells": [
    {
      "cell_type": "code",
      "execution_count": 1,
      "metadata": {
        "colab": {
          "base_uri": "https://localhost:8080/"
        },
        "id": "j1Z2hqK0FHNG",
        "outputId": "45dd6aef-b098-4419-caa4-e9288bd7fc84"
      },
      "outputs": [
        {
          "output_type": "stream",
          "name": "stdout",
          "text": [
            "Mounted at /content/drive\n"
          ]
        }
      ],
      "source": [
        "from google.colab import drive\n",
        "drive.mount('/content/drive', force_remount=True)"
      ]
    },
    {
      "cell_type": "code",
      "source": [
        "import os\n",
        "\n",
        "os.chdir=(\"/content/drive/MyDrive/MLDLProjects/FaceMaskDetect/\")\n",
        "Dataset='/content/drive/MyDrive/MLDLProjects/FaceMaskDetect/Dataset'\n",
        "Data_Dir=os.listdir(Dataset)\n",
        "print(Data_Dir)"
      ],
      "metadata": {
        "colab": {
          "base_uri": "https://localhost:8080/"
        },
        "id": "YPP3UmGoZiBp",
        "outputId": "245a8a5d-7c7f-4ce1-c17d-de7b9de47617"
      },
      "execution_count": 4,
      "outputs": [
        {
          "output_type": "stream",
          "name": "stdout",
          "text": [
            "['Without_Mask', 'With_Mask']\n"
          ]
        }
      ]
    },
    {
      "cell_type": "code",
      "source": [
        "import cv2\n",
        "import numpy as np\n",
        "from tensorflow.keras.utils import to_categorical\n",
        "from sklearn.preprocessing import LabelBinarizer\n",
        "from sklearn.model_selection import train_test_split\n",
        "\n",
        "img_rows, img_cols = 112,112\n",
        "\n",
        "images=[]\n",
        "labels=[]\n",
        "\n",
        "for category in Data_Dir:\n",
        "  folder_path = os.path.join(Dataset, category)\n",
        "  for img in os.listdir(folder_path):\n",
        "    img_path = os.path.join(folder_path,img)\n",
        "    img=cv2.imread(img_path)\n",
        "\n",
        "    try:\n",
        "      grayscale_img=cv2.cvtColor(img,cv2.COLOR_BGR2GRAY)\n",
        "\n",
        "      resized_img=cv2.resize(grayscale_img,(img_rows,img_cols))\n",
        "      images.append(resized_img)\n",
        "      labels.append(category)\n",
        "\n",
        "    except Exception as e:\n",
        "      print(\"Exception\",e)\n",
        "\n",
        "images=np.array(images)/255.0\n",
        "images=np.reshape(images,(images.shape[0],img_rows,img_cols,1))\n",
        "\n",
        "#one hot encoding\n",
        "lb=LabelBinarizer()\n",
        "labels=lb.fit_transform(labels)\n",
        "labels=to_categorical(labels)\n",
        "labels=np.array(labels)\n",
        "\n",
        "(train_X, test_X, train_y, test_y) = train_test_split(images, labels, test_size=0.25, random_state=0)"
      ],
      "metadata": {
        "id": "irbalxqlQryo"
      },
      "execution_count": 8,
      "outputs": []
    },
    {
      "cell_type": "code",
      "source": [
        "from keras.models import Sequential\n",
        "from keras.layers import Dense,Activation,Flatten,Dropout\n",
        "from keras.layers import Conv2D, MaxPooling2D\n",
        "\n",
        "num_classes=2\n",
        "batch_size=32\n",
        "\n",
        "model=Sequential()\n",
        "\n",
        "model.add(Conv2D(64,(3,3),input_shape=(img_rows,img_cols,1)))\n",
        "model.add(Activation('relu'))\n",
        "model.add(MaxPooling2D(pool_size=(2,2)))\n",
        "\n",
        "model.add(Flatten())\n",
        "model.add(Dropout(0.5))\n",
        "\n",
        "model.add(Dense(64,activation='relu'))\n",
        "model.add(Dense(num_classes,activation='softmax'))\n",
        "\n",
        "print(model.summary())\n",
        "\n"
      ],
      "metadata": {
        "colab": {
          "base_uri": "https://localhost:8080/"
        },
        "id": "JU9EaXXJWK8A",
        "outputId": "00b7fafc-a4bb-411a-b72e-e4b4ec8cd4ab"
      },
      "execution_count": 9,
      "outputs": [
        {
          "output_type": "stream",
          "name": "stdout",
          "text": [
            "Model: \"sequential\"\n",
            "_________________________________________________________________\n",
            " Layer (type)                Output Shape              Param #   \n",
            "=================================================================\n",
            " conv2d (Conv2D)             (None, 110, 110, 64)      640       \n",
            "                                                                 \n",
            " activation (Activation)     (None, 110, 110, 64)      0         \n",
            "                                                                 \n",
            " max_pooling2d (MaxPooling2D  (None, 55, 55, 64)       0         \n",
            " )                                                               \n",
            "                                                                 \n",
            " flatten (Flatten)           (None, 193600)            0         \n",
            "                                                                 \n",
            " dropout (Dropout)           (None, 193600)            0         \n",
            "                                                                 \n",
            " dense (Dense)               (None, 64)                12390464  \n",
            "                                                                 \n",
            " dense_1 (Dense)             (None, 2)                 130       \n",
            "                                                                 \n",
            "=================================================================\n",
            "Total params: 12,391,234\n",
            "Trainable params: 12,391,234\n",
            "Non-trainable params: 0\n",
            "_________________________________________________________________\n",
            "None\n"
          ]
        }
      ]
    },
    {
      "cell_type": "code",
      "source": [
        "from keras.utils.vis_utils import plot_model\n",
        "plot_model(model,to_file=\"/content/drive/MyDrive/MLDLProjects/FaceMaskDetect/Output/model.png\")"
      ],
      "metadata": {
        "colab": {
          "base_uri": "https://localhost:8080/",
          "height": 758
        },
        "id": "bTCDOFn_ZofM",
        "outputId": "96b8af23-cb0a-4c2f-a340-792f0ff6d0c9"
      },
      "execution_count": 10,
      "outputs": [
        {
          "output_type": "execute_result",
          "data": {
            "text/plain": [
              "<IPython.core.display.Image object>"
            ],
            "image/png": "[encoded data removed]"
          },
          "metadata": {},
          "execution_count": 10
        }
      ]
    },
    {
      "cell_type": "code",
      "source": [
        "from tensorflow.keras.optimizers import Adam\n",
        "\n",
        "epochs=50\n",
        "\n",
        "model.compile(loss = 'categorical_crossentropy',\n",
        "              optimizer = Adam(lr=0.001),\n",
        "              metrics=['accuracy']\n",
        "              )\n",
        "\n",
        "fitted_model = model.fit(\n",
        "    train_X,\n",
        "    train_y,\n",
        "    epochs=epochs,\n",
        "    validation_split=0.25\n",
        ")"
      ],
      "metadata": {
        "colab": {
          "base_uri": "https://localhost:8080/"
        },
        "id": "vF_KZax8Z57p",
        "outputId": "53ef66be-12ea-4fd0-c1b4-23ba431a8351"
      },
      "execution_count": 12,
      "outputs": [
        {
          "output_type": "stream",
          "name": "stdout",
          "text": [
            "Epoch 1/50\n"
          ]
        },
        {
          "output_type": "stream",
          "name": "stderr",
          "text": [
            "/usr/local/lib/python3.7/dist-packages/keras/optimizer_v2/adam.py:105: UserWarning: The `lr` argument is deprecated, use `learning_rate` instead.\n",
            "  super(Adam, self).__init__(name, **kwargs)\n"
          ]
        },
        {
          "output_type": "stream",
          "name": "stdout",
          "text": [
            "2/2 [==============================] - 10s 308ms/step - loss: 0.7081 - accuracy: 0.6667 - val_loss: 7.8510 - val_accuracy: 0.1333\n",
            "Epoch 2/50\n",
            "2/2 [==============================] - 0s 36ms/step - loss: 4.5006 - accuracy: 0.4889 - val_loss: 1.1010 - val_accuracy: 0.8667\n",
            "Epoch 3/50\n",
            "2/2 [==============================] - 0s 34ms/step - loss: 2.9170 - accuracy: 0.6667 - val_loss: 0.3660 - val_accuracy: 0.8667\n",
            "Epoch 4/50\n",
            "2/2 [==============================] - 0s 35ms/step - loss: 0.8450 - accuracy: 0.6667 - val_loss: 3.2531 - val_accuracy: 0.1333\n",
            "Epoch 5/50\n",
            "2/2 [==============================] - 0s 49ms/step - loss: 1.8216 - accuracy: 0.4222 - val_loss: 0.3493 - val_accuracy: 0.8667\n",
            "Epoch 6/50\n",
            "2/2 [==============================] - 0s 34ms/step - loss: 0.5276 - accuracy: 0.8444 - val_loss: 0.4484 - val_accuracy: 0.8667\n",
            "Epoch 7/50\n",
            "2/2 [==============================] - 0s 37ms/step - loss: 0.9049 - accuracy: 0.6889 - val_loss: 0.3058 - val_accuracy: 0.8667\n",
            "Epoch 8/50\n",
            "2/2 [==============================] - 0s 34ms/step - loss: 0.2816 - accuracy: 0.9111 - val_loss: 0.6826 - val_accuracy: 0.6000\n",
            "Epoch 9/50\n",
            "2/2 [==============================] - 0s 34ms/step - loss: 0.2666 - accuracy: 0.8889 - val_loss: 1.2783 - val_accuracy: 0.3333\n",
            "Epoch 10/50\n",
            "2/2 [==============================] - 0s 36ms/step - loss: 0.4369 - accuracy: 0.7556 - val_loss: 0.5252 - val_accuracy: 0.7333\n",
            "Epoch 11/50\n",
            "2/2 [==============================] - 0s 34ms/step - loss: 0.1114 - accuracy: 0.9556 - val_loss: 0.4709 - val_accuracy: 0.8667\n",
            "Epoch 12/50\n",
            "2/2 [==============================] - 0s 39ms/step - loss: 0.2523 - accuracy: 0.8889 - val_loss: 0.4954 - val_accuracy: 0.8667\n",
            "Epoch 13/50\n",
            "2/2 [==============================] - 0s 33ms/step - loss: 0.1311 - accuracy: 0.9778 - val_loss: 0.3760 - val_accuracy: 0.8000\n",
            "Epoch 14/50\n",
            "2/2 [==============================] - 0s 34ms/step - loss: 0.0513 - accuracy: 1.0000 - val_loss: 0.5863 - val_accuracy: 0.7333\n",
            "Epoch 15/50\n",
            "2/2 [==============================] - 0s 34ms/step - loss: 0.0706 - accuracy: 1.0000 - val_loss: 0.7477 - val_accuracy: 0.6000\n",
            "Epoch 16/50\n",
            "2/2 [==============================] - 0s 37ms/step - loss: 0.0803 - accuracy: 0.9778 - val_loss: 0.5593 - val_accuracy: 0.8000\n",
            "Epoch 17/50\n",
            "2/2 [==============================] - 0s 35ms/step - loss: 0.0308 - accuracy: 1.0000 - val_loss: 0.4141 - val_accuracy: 0.8000\n",
            "Epoch 18/50\n",
            "2/2 [==============================] - 0s 39ms/step - loss: 0.0228 - accuracy: 1.0000 - val_loss: 0.4977 - val_accuracy: 0.8667\n",
            "Epoch 19/50\n",
            "2/2 [==============================] - 0s 35ms/step - loss: 0.0424 - accuracy: 0.9778 - val_loss: 0.4734 - val_accuracy: 0.8667\n",
            "Epoch 20/50\n",
            "2/2 [==============================] - 0s 34ms/step - loss: 0.0166 - accuracy: 1.0000 - val_loss: 0.4639 - val_accuracy: 0.8000\n",
            "Epoch 21/50\n",
            "2/2 [==============================] - 0s 34ms/step - loss: 0.0100 - accuracy: 1.0000 - val_loss: 0.5240 - val_accuracy: 0.7333\n",
            "Epoch 22/50\n",
            "2/2 [==============================] - 0s 34ms/step - loss: 0.0094 - accuracy: 1.0000 - val_loss: 0.5828 - val_accuracy: 0.8000\n",
            "Epoch 23/50\n",
            "2/2 [==============================] - 0s 34ms/step - loss: 0.0098 - accuracy: 1.0000 - val_loss: 0.5871 - val_accuracy: 0.7333\n",
            "Epoch 24/50\n",
            "2/2 [==============================] - 0s 38ms/step - loss: 0.0088 - accuracy: 1.0000 - val_loss: 0.5649 - val_accuracy: 0.7333\n",
            "Epoch 25/50\n",
            "2/2 [==============================] - 0s 35ms/step - loss: 0.0055 - accuracy: 1.0000 - val_loss: 0.5585 - val_accuracy: 0.7333\n",
            "Epoch 26/50\n",
            "2/2 [==============================] - 0s 35ms/step - loss: 0.0038 - accuracy: 1.0000 - val_loss: 0.5832 - val_accuracy: 0.8000\n",
            "Epoch 27/50\n",
            "2/2 [==============================] - 0s 33ms/step - loss: 0.0032 - accuracy: 1.0000 - val_loss: 0.6278 - val_accuracy: 0.8000\n",
            "Epoch 28/50\n",
            "2/2 [==============================] - 0s 44ms/step - loss: 0.0029 - accuracy: 1.0000 - val_loss: 0.6615 - val_accuracy: 0.8000\n",
            "Epoch 29/50\n",
            "2/2 [==============================] - 0s 37ms/step - loss: 0.0031 - accuracy: 1.0000 - val_loss: 0.6697 - val_accuracy: 0.8000\n",
            "Epoch 30/50\n",
            "2/2 [==============================] - 0s 34ms/step - loss: 0.0027 - accuracy: 1.0000 - val_loss: 0.6533 - val_accuracy: 0.8000\n",
            "Epoch 31/50\n",
            "2/2 [==============================] - 0s 36ms/step - loss: 0.0023 - accuracy: 1.0000 - val_loss: 0.6296 - val_accuracy: 0.8000\n",
            "Epoch 32/50\n",
            "2/2 [==============================] - 0s 34ms/step - loss: 0.0018 - accuracy: 1.0000 - val_loss: 0.6132 - val_accuracy: 0.8000\n",
            "Epoch 33/50\n",
            "2/2 [==============================] - 0s 35ms/step - loss: 0.0015 - accuracy: 1.0000 - val_loss: 0.6032 - val_accuracy: 0.8000\n",
            "Epoch 34/50\n",
            "2/2 [==============================] - 0s 41ms/step - loss: 0.0012 - accuracy: 1.0000 - val_loss: 0.5987 - val_accuracy: 0.8000\n",
            "Epoch 35/50\n",
            "2/2 [==============================] - 0s 35ms/step - loss: 0.0013 - accuracy: 1.0000 - val_loss: 0.5986 - val_accuracy: 0.7333\n",
            "Epoch 36/50\n",
            "2/2 [==============================] - 0s 33ms/step - loss: 0.0012 - accuracy: 1.0000 - val_loss: 0.6004 - val_accuracy: 0.7333\n",
            "Epoch 37/50\n",
            "2/2 [==============================] - 0s 34ms/step - loss: 0.0011 - accuracy: 1.0000 - val_loss: 0.6050 - val_accuracy: 0.7333\n",
            "Epoch 38/50\n",
            "2/2 [==============================] - 0s 34ms/step - loss: 0.0010 - accuracy: 1.0000 - val_loss: 0.6105 - val_accuracy: 0.7333\n",
            "Epoch 39/50\n",
            "2/2 [==============================] - 0s 39ms/step - loss: 9.0479e-04 - accuracy: 1.0000 - val_loss: 0.6172 - val_accuracy: 0.7333\n",
            "Epoch 40/50\n",
            "2/2 [==============================] - 0s 34ms/step - loss: 8.7273e-04 - accuracy: 1.0000 - val_loss: 0.6265 - val_accuracy: 0.7333\n",
            "Epoch 41/50\n",
            "2/2 [==============================] - 0s 35ms/step - loss: 8.0169e-04 - accuracy: 1.0000 - val_loss: 0.6383 - val_accuracy: 0.8000\n",
            "Epoch 42/50\n",
            "2/2 [==============================] - 0s 34ms/step - loss: 7.4290e-04 - accuracy: 1.0000 - val_loss: 0.6488 - val_accuracy: 0.8000\n",
            "Epoch 43/50\n",
            "2/2 [==============================] - 0s 35ms/step - loss: 6.7245e-04 - accuracy: 1.0000 - val_loss: 0.6591 - val_accuracy: 0.8000\n",
            "Epoch 44/50\n",
            "2/2 [==============================] - 0s 35ms/step - loss: 6.2091e-04 - accuracy: 1.0000 - val_loss: 0.6692 - val_accuracy: 0.8000\n",
            "Epoch 45/50\n",
            "2/2 [==============================] - 0s 34ms/step - loss: 5.5529e-04 - accuracy: 1.0000 - val_loss: 0.6789 - val_accuracy: 0.8000\n",
            "Epoch 46/50\n",
            "2/2 [==============================] - 0s 33ms/step - loss: 5.1694e-04 - accuracy: 1.0000 - val_loss: 0.6885 - val_accuracy: 0.8000\n",
            "Epoch 47/50\n",
            "2/2 [==============================] - 0s 35ms/step - loss: 4.9020e-04 - accuracy: 1.0000 - val_loss: 0.6950 - val_accuracy: 0.8000\n",
            "Epoch 48/50\n",
            "2/2 [==============================] - 0s 34ms/step - loss: 4.7041e-04 - accuracy: 1.0000 - val_loss: 0.6989 - val_accuracy: 0.8000\n",
            "Epoch 49/50\n",
            "2/2 [==============================] - 0s 34ms/step - loss: 4.0782e-04 - accuracy: 1.0000 - val_loss: 0.7018 - val_accuracy: 0.8000\n",
            "Epoch 50/50\n",
            "2/2 [==============================] - 0s 38ms/step - loss: 4.2442e-04 - accuracy: 1.0000 - val_loss: 0.7047 - val_accuracy: 0.8000\n"
          ]
        }
      ]
    },
    {
      "cell_type": "code",
      "source": [
        "from matplotlib import pyplot as plt\n",
        "\n",
        "plt.plot(fitted_model.history['loss'],'r',label='training loss')\n",
        "plt.plot(fitted_model.history['val_loss'],'r',label='validation loss')\n",
        "\n",
        "plt.xlabel(\"Number of Epochs\")\n",
        "plt.ylabel(\"Loss Value\")\n",
        "\n",
        "plt.legend()\n",
        "plt.show()\n",
        "\n",
        "plt.plot(fitted_model.history['accuracy'],'r',label='training accuracy')\n",
        "plt.plot(fitted_model.history['val_accuracy'],'r',label='validation accuracy')\n",
        "\n",
        "plt.xlabel(\"Number of Epochs\")\n",
        "plt.ylabel(\"accuracy Value\")\n",
        "\n",
        "plt.legend()\n",
        "plt.show()"
      ],
      "metadata": {
        "colab": {
          "base_uri": "https://localhost:8080/",
          "height": 541
        },
        "id": "x4tfelbYa3gh",
        "outputId": "2d7d44e5-28ee-4cff-ff25-d52ec8db42c9"
      },
      "execution_count": 14,
      "outputs": [
        {
          "output_type": "display_data",
          "data": {
            "text/plain": [
              "<Figure size 432x288 with 1 Axes>"
            ],
            "image/png": "[encoded data removed]"
          },
          "metadata": {
            "needs_background": "light"
          }
        },
        {
          "output_type": "display_data",
          "data": {
            "text/plain": [
              "<Figure size 432x288 with 1 Axes>"
            ],
            "image/png": "[encoded data removed]"
          },
          "metadata": {
            "needs_background": "light"
          }
        }
      ]
    },
    {
      "cell_type": "code",
      "source": [
        "model.save('/content/drive/MyDrive/MLDLProjects/FaceMaskDetect/Output/face_mask_detection_model.h5')"
      ],
      "metadata": {
        "id": "MYp7jSGucJYe"
      },
      "execution_count": 15,
      "outputs": []
    }
  ]
}